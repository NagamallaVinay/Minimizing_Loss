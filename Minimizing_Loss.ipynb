{
  "nbformat": 4,
  "nbformat_minor": 0,
  "metadata": {
    "colab": {
      "provenance": [],
      "authorship_tag": "ABX9TyPCzcCalqLS1GbWt6sBd0tQ",
      "include_colab_link": true
    },
    "kernelspec": {
      "name": "python3",
      "display_name": "Python 3"
    },
    "language_info": {
      "name": "python"
    }
  },
  "cells": [
    {
      "cell_type": "markdown",
      "metadata": {
        "id": "view-in-github",
        "colab_type": "text"
      },
      "source": [
        "<a href=\"https://colab.research.google.com/github/NagamallaVinay/Minimizing_Loss/blob/main/Minimizing_Loss.ipynb\" target=\"_parent\"><img src=\"https://colab.research.google.com/assets/colab-badge.svg\" alt=\"Open In Colab\"/></a>"
      ]
    },
    {
      "cell_type": "code",
      "execution_count": 17,
      "metadata": {
        "colab": {
          "base_uri": "https://localhost:8080/",
          "height": 54
        },
        "id": "ZkYTMWQNvppS",
        "outputId": "2ab41b70-67ab-42fa-e073-648301325257"
      },
      "outputs": [
        {
          "name": "stdout",
          "output_type": "stream",
          "text": [
            "Enter house prices : 20 15 7 2 13\n"
          ]
        },
        {
          "output_type": "execute_result",
          "data": {
            "text/plain": [
              "'If Rajeev buys house in year 2, and sells it in year 5, then he can have minimum loss of 2 units'"
            ],
            "application/vnd.google.colaboratory.intrinsic+json": {
              "type": "string"
            }
          },
          "metadata": {},
          "execution_count": 17
        }
      ],
      "source": [
        "import bisect\n",
        "\n",
        "def find_minimum_loss(prices):\n",
        "    n = len(prices)\n",
        "    min_loss = float('inf')\n",
        "    buy_year = sell_year = -1\n",
        "    # Using Hash Map for Efficiency\n",
        "    price_year_map = {price: year for year, price in enumerate(prices)}\n",
        "    sorted_seen = []\n",
        "\n",
        "    for i in range(n - 1, -1, -1):\n",
        "        price = prices[i]\n",
        "\n",
        "        position_Index = bisect.bisect_left(sorted_seen, price)\n",
        "\n",
        "        if position_Index > 0:\n",
        "            lower_price = sorted_seen[position_Index - 1]\n",
        "            loss = price - lower_price\n",
        "            if loss < min_loss:\n",
        "                min_loss = loss\n",
        "                buy_year = i\n",
        "                sell_year = price_year_map[lower_price]\n",
        "\n",
        "        bisect.insort(sorted_seen, price)\n",
        "\n",
        "    if min_loss == float('inf'):\n",
        "        return \"No loss Detected\"\n",
        "\n",
        "    return f\"If Rajeev buys house in year {buy_year + 1}, and sells it in year {sell_year + 1}, then he can have minimum loss of {min_loss} units\"\n",
        "\n",
        "prices = list(map(int, input(\"Enter house prices : \").split()))\n",
        "find_minimum_loss(prices)\n",
        "\n",
        "\n",
        "# DataStructure Used : Hash Map\n",
        "# Time Complexity : O(nlogn)\n",
        "# Space Complexity : O(n)\n",
        "# insort : Method used to insert an element into a sorted list while keeping it sorted"
      ]
    }
  ]
}